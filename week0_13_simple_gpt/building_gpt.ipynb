{
 "cells": [
  {
   "cell_type": "markdown",
   "metadata": {
    "id": "kkZH20Osb3e8"
   },
   "source": [
    "## Building a GPT\n",
    "\n",
    "The goal of this notebook is to introduce self-attention mechanism and understand the architecture behind GPT model.\n",
    "\n",
    "The notebook is heavily based on the great materials by [Andrej Karpathy](https://karpathy.ai/zero-to-hero.html)"
   ]
  },
  {
   "cell_type": "code",
   "execution_count": 1,
   "metadata": {
    "colab": {
     "base_uri": "https://localhost:8080/"
    },
    "id": "h5hjCcLDr2WC",
    "outputId": "fb593b14-f2e8-4892-f10f-c73430ac3598"
   },
   "outputs": [
    {
     "name": "stdout",
     "output_type": "stream",
     "text": [
      "--2024-12-11 22:13:40--  https://raw.githubusercontent.com/karpathy/char-rnn/master/data/tinyshakespeare/input.txt\n",
      "Resolving raw.githubusercontent.com (raw.githubusercontent.com)... 185.199.111.133, 185.199.109.133, 185.199.108.133, ...\n",
      "Connecting to raw.githubusercontent.com (raw.githubusercontent.com)|185.199.111.133|:443... connected.\n",
      "HTTP request sent, awaiting response... 200 OK\n",
      "Length: 1115394 (1.1M) [text/plain]\n",
      "Saving to: ‘input.txt’\n",
      "\n",
      "input.txt           100%[===================>]   1.06M  6.50MB/s    in 0.2s    \n",
      "\n",
      "2024-12-11 22:13:40 (6.50 MB/s) - ‘input.txt’ saved [1115394/1115394]\n",
      "\n"
     ]
    }
   ],
   "source": [
    "# The dataset we are using today is tiny shakespeare\n",
    "# Which represents a huge text composed of different texts by Shakespeare\n",
    "\n",
    "!wget https://raw.githubusercontent.com/karpathy/char-rnn/master/data/tinyshakespeare/input.txt"
   ]
  },
  {
   "cell_type": "code",
   "execution_count": 2,
   "metadata": {
    "id": "O6medjfRsLD9"
   },
   "outputs": [],
   "source": [
    "# read it in to inspect it\n",
    "with open('input.txt', 'r', encoding='utf-8') as f:\n",
    "    text = f.read()"
   ]
  },
  {
   "cell_type": "code",
   "execution_count": 3,
   "metadata": {
    "colab": {
     "base_uri": "https://localhost:8080/"
    },
    "id": "6xWI_VyAsN8F",
    "outputId": "cec0277b-b473-48f8-b670-dc8a0d179d30"
   },
   "outputs": [
    {
     "name": "stdout",
     "output_type": "stream",
     "text": [
      "length of dataset in characters:  1115394\n"
     ]
    }
   ],
   "source": [
    "print(\"length of dataset in characters: \", len(text))"
   ]
  },
  {
   "cell_type": "code",
   "execution_count": 4,
   "metadata": {
    "colab": {
     "base_uri": "https://localhost:8080/"
    },
    "id": "2c5V0FvqseE0",
    "outputId": "1b6744c3-51fa-421c-eec0-b08674ca72a2"
   },
   "outputs": [
    {
     "name": "stdout",
     "output_type": "stream",
     "text": [
      "First Citizen:\n",
      "Before we proceed any further, hear me speak.\n",
      "\n",
      "All:\n",
      "Speak, speak.\n",
      "\n",
      "First Citizen:\n",
      "You are all resolved rather to die than to famish?\n",
      "\n",
      "All:\n",
      "Resolved. resolved.\n",
      "\n",
      "First Citizen:\n",
      "First, you know Caius Marcius is chief enemy to the people.\n",
      "\n",
      "All:\n",
      "We know't, we know't.\n",
      "\n",
      "First Citizen:\n",
      "Let us kill him, and we'll have corn at our own price.\n",
      "Is't a verdict?\n",
      "\n",
      "All:\n",
      "No more talking on't; let it be done: away, away!\n",
      "\n",
      "Second Citizen:\n",
      "One word, good citizens.\n",
      "\n",
      "First Citizen:\n",
      "We are accounted poor citizens, the patricians good.\n",
      "What authority surfeits on would relieve us: if they\n",
      "would yield us but the superfluity, while it were\n",
      "wholesome, we might guess they relieved us humanely;\n",
      "but they think we are too dear: the leanness that\n",
      "afflicts us, the object of our misery, is as an\n",
      "inventory to particularise their abundance; our\n",
      "sufferance is a gain to them Let us revenge this with\n",
      "our pikes, ere we become rakes: for the gods know I\n",
      "speak this in hunger for bread, not in thirst for revenge.\n",
      "\n",
      "\n"
     ]
    }
   ],
   "source": [
    "# let's look at the first 1000 characters\n",
    "print(text[:1000])"
   ]
  },
  {
   "cell_type": "code",
   "execution_count": null,
   "metadata": {
    "id": "t5b2Qpmoc-sV"
   },
   "outputs": [],
   "source": [
    "# some variables-helpers"
   ]
  },
  {
   "cell_type": "code",
   "execution_count": 5,
   "metadata": {
    "colab": {
     "base_uri": "https://localhost:8080/"
    },
    "id": "0e-Rbyr8sfM8",
    "outputId": "a1df480f-4079-4c8b-dc16-a996b0b2a5cf"
   },
   "outputs": [
    {
     "name": "stdout",
     "output_type": "stream",
     "text": [
      "yolR;jVCAimuUJKOL$&PXhdIbx aTgsYnN.HDerZ'GMcBSEp3k-f\n",
      "wz,t!qQFWv?:\n",
      "65\n"
     ]
    }
   ],
   "source": [
    "# here are all the unique characters that occur in this text\n",
    "\n",
    "# list of unique characters\n",
    "chars = set(text)\n",
    "# how many distinct characters there're in the text\n",
    "vocab_size = len(chars)\n",
    "print(''.join(chars))\n",
    "print(vocab_size)"
   ]
  },
  {
   "cell_type": "code",
   "execution_count": 6,
   "metadata": {
    "colab": {
     "base_uri": "https://localhost:8080/"
    },
    "id": "Yw1LKNCgwjj1",
    "outputId": "f1baaf28-3ef5-485e-906d-9f4f2a21a1f6"
   },
   "outputs": [
    {
     "name": "stdout",
     "output_type": "stream",
     "text": [
      "[21, 9, 9, 26, 56, 21, 37, 38, 37]\n",
      "hii there\n"
     ]
    }
   ],
   "source": [
    "# create a mapping from characters to integers\n",
    "\n",
    "# string to integer mapping\n",
    "stoi = {char: idx for idx, char in enumerate(chars)}\n",
    "# integer to string mapping\n",
    "itos = {idx: char for idx, char in enumerate(chars)}\n",
    "# function that takes a string, outputs a list of integers\n",
    "encode = lambda s: [stoi[c] for c in s]\n",
    "# function that takes a list of integers, outputs a string\n",
    "decode = lambda l: \"\".join([itos[i] for i in l])\n",
    "\n",
    "print(encode(\"hii there\"))\n",
    "print(decode(encode(\"hii there\")))"
   ]
  },
  {
   "cell_type": "code",
   "execution_count": 7,
   "metadata": {
    "colab": {
     "base_uri": "https://localhost:8080/"
    },
    "id": "YJb0OXPwzvqg",
    "outputId": "98bb0553-eb83-46df-cd39-6a1269fea138"
   },
   "outputs": [
    {
     "name": "stdout",
     "output_type": "stream",
     "text": [
      "torch.Size([1115394]) torch.int64\n",
      "tensor([60,  9, 38, 30, 56, 26,  7,  9, 56,  9, 54, 37, 32, 64, 52, 44, 37, 51,\n",
      "         1, 38, 37, 26, 53, 37, 26, 47, 38,  1, 43, 37, 37, 22, 26, 27, 32,  0,\n",
      "        26, 51, 11, 38, 56, 21, 37, 38, 55, 26, 21, 37, 27, 38, 26, 10, 37, 26,\n",
      "        30, 47, 37, 27, 49, 34, 52, 52,  8,  2,  2, 64, 52, 45, 47, 37, 27, 49,\n",
      "        55, 26, 30, 47, 37, 27, 49, 34, 52, 52, 60,  9, 38, 30, 56, 26,  7,  9,\n",
      "        56,  9, 54, 37, 32, 64, 52, 31,  1, 11, 26, 27, 38, 37, 26, 27,  2,  2,\n",
      "        26, 38, 37, 30,  1,  2, 62, 37, 22, 26, 38, 27, 56, 21, 37, 38, 26, 56,\n",
      "         1, 26, 22,  9, 37, 26, 56, 21, 27, 32, 26, 56,  1, 26, 51, 27, 10,  9,\n",
      "        30, 21, 63, 52, 52,  8,  2,  2, 64, 52,  3, 37, 30,  1,  2, 62, 37, 22,\n",
      "        34, 26, 38, 37, 30,  1,  2, 62, 37, 22, 34, 52, 52, 60,  9, 38, 30, 56,\n",
      "        26,  7,  9, 56,  9, 54, 37, 32, 64, 52, 60,  9, 38, 30, 56, 55, 26,  0,\n",
      "         1, 11, 26, 49, 32,  1, 53, 26,  7, 27,  9, 11, 30, 26, 42, 27, 38, 43,\n",
      "         9, 11, 30, 26,  9, 30, 26, 43, 21,  9, 37, 51, 26, 37, 32, 37, 10,  0,\n",
      "        26, 56,  1, 26, 56, 21, 37, 26, 47, 37,  1, 47,  2, 37, 34, 52, 52,  8,\n",
      "         2,  2, 64, 52, 61, 37, 26, 49, 32,  1, 53, 40, 56, 55, 26, 53, 37, 26,\n",
      "        49, 32,  1, 53, 40, 56, 34, 52, 52, 60,  9, 38, 30, 56, 26,  7,  9, 56,\n",
      "         9, 54, 37, 32, 64, 52, 16, 37, 56, 26, 11, 30, 26, 49,  9,  2,  2, 26,\n",
      "        21,  9, 10, 55, 26, 27, 32, 22, 26, 53, 37, 40,  2,  2, 26, 21, 27, 62,\n",
      "        37, 26, 43,  1, 38, 32, 26, 27, 56, 26,  1, 11, 38, 26,  1, 53, 32, 26,\n",
      "        47, 38,  9, 43, 37, 34, 52, 23, 30, 40, 56, 26, 27, 26, 62, 37, 38, 22,\n",
      "         9, 43, 56, 63, 52, 52,  8,  2,  2, 64, 52, 33,  1, 26, 10,  1, 38, 37,\n",
      "        26, 56, 27,  2, 49,  9, 32, 29, 26,  1, 32, 40, 56,  4, 26,  2, 37, 56,\n",
      "        26,  9, 56, 26, 24, 37, 26, 22,  1, 32, 37, 64, 26, 27, 53, 27,  0, 55,\n",
      "        26, 27, 53, 27,  0, 57, 52, 52, 45, 37, 43,  1, 32, 22, 26,  7,  9, 56,\n",
      "         9, 54, 37, 32, 64, 52, 15, 32, 37, 26, 53,  1, 38, 22, 55, 26, 29,  1,\n",
      "         1, 22, 26, 43,  9, 56,  9, 54, 37, 32, 30, 34, 52, 52, 60,  9, 38, 30,\n",
      "        56, 26,  7,  9, 56,  9, 54, 37, 32, 64, 52, 61, 37, 26, 27, 38, 37, 26,\n",
      "        27, 43, 43,  1, 11, 32, 56, 37, 22, 26, 47,  1,  1, 38, 26, 43,  9, 56,\n",
      "         9, 54, 37, 32, 30, 55, 26, 56, 21, 37, 26, 47, 27, 56, 38,  9, 43,  9,\n",
      "        27, 32, 30, 26, 29,  1,  1, 22, 34, 52, 61, 21, 27, 56, 26, 27, 11, 56,\n",
      "        21,  1, 38,  9, 56,  0, 26, 30, 11, 38, 51, 37,  9, 56, 30, 26,  1, 32,\n",
      "        26, 53,  1, 11,  2, 22, 26, 38, 37,  2,  9, 37, 62, 37, 26, 11, 30, 64,\n",
      "        26,  9, 51, 26, 56, 21, 37,  0, 52, 53,  1, 11,  2, 22, 26,  0,  9, 37,\n",
      "         2, 22, 26, 11, 30, 26, 24, 11, 56, 26, 56, 21, 37, 26, 30, 11, 47, 37,\n",
      "        38, 51,  2, 11,  9, 56,  0, 55, 26, 53, 21,  9,  2, 37, 26,  9, 56, 26,\n",
      "        53, 37, 38, 37, 52, 53, 21,  1,  2, 37, 30,  1, 10, 37, 55, 26, 53, 37,\n",
      "        26, 10,  9, 29, 21, 56, 26, 29, 11, 37, 30, 30, 26, 56, 21, 37,  0, 26,\n",
      "        38, 37,  2,  9, 37, 62, 37, 22, 26, 11, 30, 26, 21, 11, 10, 27, 32, 37,\n",
      "         2,  0,  4, 52, 24, 11, 56, 26, 56, 21, 37,  0, 26, 56, 21,  9, 32, 49,\n",
      "        26, 53, 37, 26, 27, 38, 37, 26, 56,  1,  1, 26, 22, 37, 27, 38, 64, 26,\n",
      "        56, 21, 37, 26,  2, 37, 27, 32, 32, 37, 30, 30, 26, 56, 21, 27, 56, 52,\n",
      "        27, 51, 51,  2,  9, 43, 56, 30, 26, 11, 30, 55, 26, 56, 21, 37, 26,  1,\n",
      "        24,  5, 37, 43, 56, 26,  1, 51, 26,  1, 11, 38, 26, 10,  9, 30, 37, 38,\n",
      "         0, 55, 26,  9, 30, 26, 27, 30, 26, 27, 32, 52,  9, 32, 62, 37, 32, 56,\n",
      "         1, 38,  0, 26, 56,  1, 26, 47, 27, 38, 56,  9, 43, 11,  2, 27, 38,  9,\n",
      "        30, 37, 26, 56, 21, 37,  9, 38, 26, 27, 24, 11, 32, 22, 27, 32, 43, 37,\n",
      "         4, 26,  1, 11, 38, 52, 30, 11, 51, 51, 37, 38, 27, 32, 43, 37, 26,  9,\n",
      "        30, 26, 27, 26, 29, 27,  9, 32, 26, 56,  1, 26, 56, 21, 37, 10, 26, 16,\n",
      "        37, 56, 26, 11, 30, 26, 38, 37, 62, 37, 32, 29, 37, 26, 56, 21,  9, 30,\n",
      "        26, 53,  9, 56, 21, 52,  1, 11, 38, 26, 47,  9, 49, 37, 30, 55, 26, 37,\n",
      "        38, 37, 26, 53, 37, 26, 24, 37, 43,  1, 10, 37, 26, 38, 27, 49, 37, 30,\n",
      "        64, 26, 51,  1, 38, 26, 56, 21, 37, 26, 29,  1, 22, 30, 26, 49, 32,  1,\n",
      "        53, 26, 23, 52, 30, 47, 37, 27, 49, 26, 56, 21,  9, 30, 26,  9, 32, 26,\n",
      "        21, 11, 32, 29, 37, 38, 26, 51,  1, 38, 26, 24, 38, 37, 27, 22, 55, 26,\n",
      "        32,  1, 56, 26,  9, 32, 26, 56, 21,  9, 38, 30, 56, 26, 51,  1, 38, 26,\n",
      "        38, 37, 62, 37, 32, 29, 37, 34, 52, 52])\n"
     ]
    }
   ],
   "source": [
    "import torch\n",
    "\n",
    "\n",
    "# let's now encode the entire text dataset and store it into a torch.Tensor\n",
    "data = torch.tensor(encode(text), dtype=torch.long)\n",
    "print(data.shape, data.dtype)\n",
    "print(data[:1000]) # the 1000 characters we looked at earier will to the GPT look like this"
   ]
  },
  {
   "cell_type": "code",
   "execution_count": 8,
   "metadata": {
    "id": "f_WIXqxz0lU5"
   },
   "outputs": [],
   "source": [
    "# Let's now split up the data into train and validation sets\n",
    "n = int(0.9*len(data))\n",
    "\n",
    "train_data = data[:n]\n",
    "val_data = data[n:]"
   ]
  },
  {
   "cell_type": "code",
   "execution_count": 9,
   "metadata": {
    "colab": {
     "base_uri": "https://localhost:8080/"
    },
    "id": "TD5Bj8Y6IAD4",
    "outputId": "5e1e9bfd-8239-44c7-ba98-ae38d93240c6"
   },
   "outputs": [
    {
     "data": {
      "text/plain": [
       "tensor([60,  9, 38, 30, 56, 26,  7,  9, 56])"
      ]
     },
     "execution_count": 9,
     "metadata": {},
     "output_type": "execute_result"
    }
   ],
   "source": [
    "block_size = 8\n",
    "train_data[:block_size+1]"
   ]
  },
  {
   "cell_type": "code",
   "execution_count": 10,
   "metadata": {
    "colab": {
     "base_uri": "https://localhost:8080/"
    },
    "id": "9HXDe8vGJCEn",
    "outputId": "1269aa41-7d1d-466a-b10b-12aab4400a7e"
   },
   "outputs": [
    {
     "name": "stdout",
     "output_type": "stream",
     "text": [
      "when input is tensor([60]) the target: 9\n",
      "when input is tensor([60,  9]) the target: 38\n",
      "when input is tensor([60,  9, 38]) the target: 30\n",
      "when input is tensor([60,  9, 38, 30]) the target: 56\n",
      "when input is tensor([60,  9, 38, 30, 56]) the target: 26\n",
      "when input is tensor([60,  9, 38, 30, 56, 26]) the target: 7\n",
      "when input is tensor([60,  9, 38, 30, 56, 26,  7]) the target: 9\n",
      "when input is tensor([60,  9, 38, 30, 56, 26,  7,  9]) the target: 56\n"
     ]
    }
   ],
   "source": [
    "x = train_data[:block_size]\n",
    "y = train_data[1:block_size+1]\n",
    "for t in range(block_size):\n",
    "    context = x[:t+1]\n",
    "    target = y[t]\n",
    "    print(f\"when input is {context} the target: {target}\")"
   ]
  },
  {
   "cell_type": "code",
   "execution_count": 13,
   "metadata": {
    "colab": {
     "base_uri": "https://localhost:8080/"
    },
    "id": "Q3k1Czf7LuA9",
    "outputId": "c66bd928-7cb0-4d70-c059-481d7ca226bf"
   },
   "outputs": [
    {
     "name": "stdout",
     "output_type": "stream",
     "text": [
      "inputs:\n",
      "torch.Size([4, 8])\n",
      "tensor([[16, 37, 56, 40, 30, 26, 21, 37],\n",
      "        [51,  1, 38, 26, 56, 21, 27, 56],\n",
      "        [32, 56, 26, 56, 21, 27, 56, 26],\n",
      "        [42, 46, 15, 64, 52, 23, 26, 47]])\n",
      "targets:\n",
      "torch.Size([4, 8])\n",
      "tensor([[37, 56, 40, 30, 26, 21, 37, 27],\n",
      "        [ 1, 38, 26, 56, 21, 27, 56, 26],\n",
      "        [56, 26, 56, 21, 27, 56, 26, 21],\n",
      "        [46, 15, 64, 52, 23, 26, 47, 27]])\n",
      "----\n",
      "when input is [16] the target: 37\n",
      "when input is [16, 37] the target: 56\n",
      "when input is [16, 37, 56] the target: 40\n",
      "when input is [16, 37, 56, 40] the target: 30\n",
      "when input is [16, 37, 56, 40, 30] the target: 26\n",
      "when input is [16, 37, 56, 40, 30, 26] the target: 21\n",
      "when input is [16, 37, 56, 40, 30, 26, 21] the target: 37\n",
      "when input is [16, 37, 56, 40, 30, 26, 21, 37] the target: 27\n",
      "when input is [51] the target: 1\n",
      "when input is [51, 1] the target: 38\n",
      "when input is [51, 1, 38] the target: 26\n",
      "when input is [51, 1, 38, 26] the target: 56\n",
      "when input is [51, 1, 38, 26, 56] the target: 21\n",
      "when input is [51, 1, 38, 26, 56, 21] the target: 27\n",
      "when input is [51, 1, 38, 26, 56, 21, 27] the target: 56\n",
      "when input is [51, 1, 38, 26, 56, 21, 27, 56] the target: 26\n",
      "when input is [32] the target: 56\n",
      "when input is [32, 56] the target: 26\n",
      "when input is [32, 56, 26] the target: 56\n",
      "when input is [32, 56, 26, 56] the target: 21\n",
      "when input is [32, 56, 26, 56, 21] the target: 27\n",
      "when input is [32, 56, 26, 56, 21, 27] the target: 56\n",
      "when input is [32, 56, 26, 56, 21, 27, 56] the target: 26\n",
      "when input is [32, 56, 26, 56, 21, 27, 56, 26] the target: 21\n",
      "when input is [42] the target: 46\n",
      "when input is [42, 46] the target: 15\n",
      "when input is [42, 46, 15] the target: 64\n",
      "when input is [42, 46, 15, 64] the target: 52\n",
      "when input is [42, 46, 15, 64, 52] the target: 23\n",
      "when input is [42, 46, 15, 64, 52, 23] the target: 26\n",
      "when input is [42, 46, 15, 64, 52, 23, 26] the target: 47\n",
      "when input is [42, 46, 15, 64, 52, 23, 26, 47] the target: 27\n"
     ]
    }
   ],
   "source": [
    "torch.manual_seed(1337)\n",
    "batch_size = 4 # how many independent sequences will we process in parallel?\n",
    "block_size = 8 # what is the maximum context length for predictions?\n",
    "\n",
    "def get_batch(split):\n",
    "    # generate a small batch of data of inputs x and targets y\n",
    "    data = train_data if split == 'train' else val_data\n",
    "    ix = torch.randint(len(data) - block_size, (batch_size,))\n",
    "    x = torch.stack([data[i:i+block_size] for i in ix])\n",
    "    y = torch.stack([data[i+1:i+block_size+1] for i in ix])\n",
    "    return x, y\n",
    "\n",
    "xb, yb = get_batch('train')\n",
    "print('inputs:')\n",
    "print(xb.shape)\n",
    "print(xb)\n",
    "print('targets:')\n",
    "print(yb.shape)\n",
    "print(yb)\n",
    "\n",
    "print('----')\n",
    "\n",
    "for b in range(batch_size): # batch dimension\n",
    "    for t in range(block_size): # time dimension\n",
    "        context = xb[b, :t+1]\n",
    "        target = yb[b,t]\n",
    "        print(f\"when input is {context.tolist()} the target: {target}\")"
   ]
  },
  {
   "cell_type": "code",
   "execution_count": 14,
   "metadata": {
    "colab": {
     "base_uri": "https://localhost:8080/"
    },
    "id": "qpyyAeIzQjlO",
    "outputId": "64660a99-e7f0-45fc-f063-743cc1c3271f"
   },
   "outputs": [
    {
     "name": "stdout",
     "output_type": "stream",
     "text": [
      "tensor([[16, 37, 56, 40, 30, 26, 21, 37],\n",
      "        [51,  1, 38, 26, 56, 21, 27, 56],\n",
      "        [32, 56, 26, 56, 21, 27, 56, 26],\n",
      "        [42, 46, 15, 64, 52, 23, 26, 47]])\n"
     ]
    }
   ],
   "source": [
    "print(xb) # our input to the transformer"
   ]
  },
  {
   "cell_type": "markdown",
   "metadata": {
    "id": "u8vd7oLOgaND"
   },
   "source": [
    "At first, we'll start with a Bigram Model. That is a super simple statistical model that predicts the next token (character) given only the previous one. We can also adapt it to N-gram model where we predict the next token given n-1 previous tokens.\n",
    "\n",
    "\n",
    "We treat this model as a super simple baseline."
   ]
  },
  {
   "cell_type": "code",
   "execution_count": 29,
   "metadata": {
    "colab": {
     "base_uri": "https://localhost:8080/"
    },
    "id": "nql_1ER53oCf",
    "outputId": "a5a56624-c3c1-4440-ede8-2f125581dc90"
   },
   "outputs": [
    {
     "name": "stdout",
     "output_type": "stream",
     "text": [
      "torch.Size([256, 65])\n",
      "tensor(4.8482, grad_fn=<NllLossBackward0>)\n",
      "yYIhGbnuJG$bxwn'FrFoOU\n",
      ",Cg$iimOd,kaIXC,um-Zlwp?WkX3SOE:'gUQli'bhSWcFf?&dPNPzyW\n",
      "eHf\n",
      "vIHHcFCqL,D$t.IbSd\n"
     ]
    }
   ],
   "source": [
    "import torch\n",
    "import torch.nn as nn\n",
    "from torch.nn import functional as F\n",
    "torch.manual_seed(1337)\n",
    "\n",
    "class BigramLanguageModel(nn.Module):\n",
    "\n",
    "    def __init__(self, vocab_size):\n",
    "        super().__init__()\n",
    "        # each token directly reads off the logits for the next token from a lookup table\n",
    "        self.token_embedding_table = nn.Embedding(vocab_size, vocab_size)\n",
    "\n",
    "    def forward(self, idx, targets=None):\n",
    "\n",
    "        # idx and targets are both (B,T) tensor of integers\n",
    "        logits = self.token_embedding_table(idx) # (B,T,C)\n",
    "\n",
    "        loss = None\n",
    "        if targets is not None:\n",
    "            B, T, C = logits.shape\n",
    "            logits = logits.view(B*T, C)\n",
    "            targets = targets.view(B*T)\n",
    "        \n",
    "            loss = F.cross_entropy(logits, targets)\n",
    "\n",
    "        return logits, loss\n",
    "\n",
    "    def generate(self, idx, max_new_tokens):\n",
    "        # idx is (B, T) array of indices in the current context\n",
    "        for _ in range(max_new_tokens):\n",
    "            # hint: for sampling use torch.multinomial\n",
    "            logits, _ = self.forward(idx)\n",
    "            logits_last = logits[:,-1,:]\n",
    "            \n",
    "            probs = F.softmax(logits_last, dim=-1)\n",
    "            next_token = torch.multinomial(probs, num_samples=1)\n",
    "            idx = torch.cat((idx, next_token), dim=1)\n",
    "\n",
    "        return idx\n",
    "\n",
    "m = BigramLanguageModel(vocab_size)\n",
    "logits, loss = m(xb, yb)\n",
    "print(logits.shape)\n",
    "print(loss)\n",
    "\n",
    "print(decode(m.generate(idx = torch.zeros((1, 1), dtype=torch.long), max_new_tokens=100)[0].tolist()))\n"
   ]
  },
  {
   "cell_type": "code",
   "execution_count": 30,
   "metadata": {
    "id": "Hs4kI8YdEkQj"
   },
   "outputs": [],
   "source": [
    "import matplotlib.pyplot as plt\n",
    "\n",
    "\n",
    "batch_size = 32\n",
    "optimizer = torch.optim.AdamW(m.parameters(), lr=1e-3)\n",
    "history = []"
   ]
  },
  {
   "cell_type": "code",
   "execution_count": 31,
   "metadata": {
    "colab": {
     "base_uri": "https://localhost:8080/"
    },
    "id": "zD0ht-pYi7px",
    "outputId": "ad222b94-ae6f-4a56-b86b-23052dc470ad"
   },
   "outputs": [
    {
     "name": "stdout",
     "output_type": "stream",
     "text": [
      "2.4709510803222656\n"
     ]
    }
   ],
   "source": [
    "for steps in range(7000): # increase number of steps for good results...\n",
    "\n",
    "    # sample a batch of data\n",
    "    xb, yb = get_batch('train')\n",
    "\n",
    "    # evaluate the loss\n",
    "    logits, loss = m(xb, yb)\n",
    "    optimizer.zero_grad(set_to_none=True)\n",
    "    loss.backward()\n",
    "    optimizer.step()\n",
    "    history.append(loss.item())\n",
    "\n",
    "print(loss.item())"
   ]
  },
  {
   "cell_type": "code",
   "execution_count": 32,
   "metadata": {
    "colab": {
     "base_uri": "https://localhost:8080/",
     "height": 452
    },
    "id": "wyramEjfi9uT",
    "outputId": "7860f064-7a5e-4442-8ed9-849e0034f114"
   },
   "outputs": [
    {
     "data": {
      "image/png": "[encoded data removed]",
      "text/plain": [
       "<Figure size 640x480 with 1 Axes>"
      ]
     },
     "metadata": {},
     "output_type": "display_data"
    }
   ],
   "source": [
    "plt.plot(history)\n",
    "plt.grid()\n",
    "plt.title(\"Bigram Model\")\n",
    "plt.show()"
   ]
  },
  {
   "cell_type": "code",
   "execution_count": 46,
   "metadata": {
    "colab": {
     "base_uri": "https://localhost:8080/"
    },
    "id": "EcVIDWAZEtjN",
    "outputId": "f9b21b59-14ca-48b7-97a7-4eb8787a8f43"
   },
   "outputs": [
    {
     "name": "stdout",
     "output_type": "stream",
     "text": [
      "y,\n",
      "\n",
      "SOFRSh!\n",
      "\n",
      "\n",
      "SI ymybeses, tobabeWinourueay timaoss, einor?\n",
      "Ondd fe The h d Gon, LOFfrie har; btharo,\n",
      "D: wqu anghsord HNOUKigucour bet\n",
      "AceNollf O:\n",
      "\n",
      "Ariss y h y fl cothounotung-youg spe myowanered KED inome. he!.\n",
      "Cascoouly.\n",
      "OMERG$stofas ivif HABulee-ninn aiTh,\n",
      "IOR: he f m s se ijepelkeareathercerds Why f\n",
      "S:\n",
      "Dire frt pat cco ayo wis wiss s in'd thknte s?\n",
      "WAyon I sa and Bare hatarglNandd the\n",
      "Awhe ETIUCO:\n",
      "\n",
      "Thy t\n",
      "A:\n",
      "F'd?\n",
      "Lh weave tasayon\n",
      "RIOngowoor.\n",
      "HUCl mes t oleisoro thiloomanghy heat ithe ef s-GKis\n"
     ]
    }
   ],
   "source": [
    "print(decode(m.generate(idx = torch.zeros((1, 1), dtype=torch.long), max_new_tokens=500)[0].tolist()))"
   ]
  },
  {
   "cell_type": "markdown",
   "metadata": {
    "id": "XlyrhklujcLS"
   },
   "source": [
    "## Self-Attention. Intuition\n",
    "\n",
    "With the bigram model case we only look at a single previous token. It seems only logical to consider all the previous tokens to generate a new one. Now the question is: how do we aggregate the information from all the tokens?\n",
    "\n",
    "Probably the simplest approach is called _bag of words_: we just average all the tokens to get an aggregated representation."
   ]
  },
  {
   "cell_type": "code",
   "execution_count": 47,
   "metadata": {
    "colab": {
     "base_uri": "https://localhost:8080/"
    },
    "id": "QOj0tJ7mlrxf",
    "outputId": "2b9b6a9c-eda7-42fa-a6a2-df2e71a4847c"
   },
   "outputs": [
    {
     "data": {
      "text/plain": [
       "torch.Size([4, 8, 2])"
      ]
     },
     "execution_count": 47,
     "metadata": {},
     "output_type": "execute_result"
    }
   ],
   "source": [
    "# consider the following toy example:\n",
    "\n",
    "torch.manual_seed(1337)\n",
    "B,T,C = 4,8,2 # batch, time, channels\n",
    "x = torch.randn(B,T,C)\n",
    "x.shape"
   ]
  },
  {
   "cell_type": "code",
   "execution_count": 48,
   "metadata": {
    "id": "LxV3QU0Slt78"
   },
   "outputs": [],
   "source": [
    "# the naive implementation\n",
    "\n",
    "# We want x[b,t] = mean_{i<=t} x[b,i]\n",
    "xbow = torch.zeros((B,T,C))\n",
    "for b in range(B):\n",
    "    for t in range(T):\n",
    "        xprev = x[b,:t+1] # (t,C)\n",
    "        xbow[b,t] = torch.mean(xprev, 0)"
   ]
  },
  {
   "cell_type": "markdown",
   "metadata": {
    "id": "v5OsoNwpmFaw"
   },
   "source": [
    "We want to make this naive implementation efficient. Let's make it with matrix multiplication:"
   ]
  },
  {
   "cell_type": "code",
   "execution_count": null,
   "metadata": {
    "colab": {
     "base_uri": "https://localhost:8080/"
    },
    "id": "c-TxFm9Sl-sl",
    "outputId": "f5e46ceb-b7dd-4687-c8de-6414009f9044"
   },
   "outputs": [
    {
     "name": "stdout",
     "output_type": "stream",
     "text": [
      "a=\n",
      "tensor([[1.0000, 0.0000, 0.0000],\n",
      "        [0.5000, 0.5000, 0.0000],\n",
      "        [0.3333, 0.3333, 0.3333]])\n",
      "--\n",
      "b=\n",
      "tensor([[2., 7.],\n",
      "        [6., 4.],\n",
      "        [6., 5.]])\n",
      "--\n",
      "c=\n",
      "tensor([[2.0000, 7.0000],\n",
      "        [4.0000, 5.5000],\n",
      "        [4.6667, 5.3333]])\n"
     ]
    }
   ],
   "source": [
    "# toy example illustrating how matrix multiplication can be used for a \"weighted aggregation\"\n",
    "torch.manual_seed(42)\n",
    "a = torch.tril(torch.ones(3, 3))\n",
    "a = a / torch.sum(a, 1, keepdim=True)\n",
    "b = torch.randint(0,10,(3,2)).float()\n",
    "c = a @ b\n",
    "print('a=')\n",
    "print(a)\n",
    "print('--')\n",
    "print('b=')\n",
    "print(b)\n",
    "print('--')\n",
    "print('c=')\n",
    "print(c)"
   ]
  },
  {
   "cell_type": "code",
   "execution_count": 49,
   "metadata": {
    "colab": {
     "base_uri": "https://localhost:8080/"
    },
    "id": "HvrYq_XxmP3f",
    "outputId": "54d6d9fd-3643-47a5-8f0e-2403f638a82e"
   },
   "outputs": [
    {
     "data": {
      "text/plain": [
       "True"
      ]
     },
     "execution_count": 49,
     "metadata": {},
     "output_type": "execute_result"
    }
   ],
   "source": [
    "# version 2: using matrix multiply for a weighted aggregation\n",
    "wei = torch.tril(torch.ones(T, T))\n",
    "wei = wei / wei.sum(1, keepdim=True)\n",
    "xbow2 = wei @ x # (B, T, T) @ (B, T, C) ----> (B, T, C)\n",
    "torch.allclose(xbow, xbow2, 1e-4)"
   ]
  },
  {
   "cell_type": "code",
   "execution_count": 50,
   "metadata": {
    "colab": {
     "base_uri": "https://localhost:8080/"
    },
    "id": "wOURrfG-ysoL",
    "outputId": "dcc73b46-cd3f-427b-908a-5980a385ee4c"
   },
   "outputs": [
    {
     "name": "stdout",
     "output_type": "stream",
     "text": [
      "masked before softmax:\n",
      "tensor([[0., -inf, -inf, -inf, -inf, -inf, -inf, -inf],\n",
      "        [0., 0., -inf, -inf, -inf, -inf, -inf, -inf],\n",
      "        [0., 0., 0., -inf, -inf, -inf, -inf, -inf],\n",
      "        [0., 0., 0., 0., -inf, -inf, -inf, -inf],\n",
      "        [0., 0., 0., 0., 0., -inf, -inf, -inf],\n",
      "        [0., 0., 0., 0., 0., 0., -inf, -inf],\n",
      "        [0., 0., 0., 0., 0., 0., 0., -inf],\n",
      "        [0., 0., 0., 0., 0., 0., 0., 0.]])\n",
      "after softmax\n",
      "tensor([[1.0000, 0.0000, 0.0000, 0.0000, 0.0000, 0.0000, 0.0000, 0.0000],\n",
      "        [0.5000, 0.5000, 0.0000, 0.0000, 0.0000, 0.0000, 0.0000, 0.0000],\n",
      "        [0.3333, 0.3333, 0.3333, 0.0000, 0.0000, 0.0000, 0.0000, 0.0000],\n",
      "        [0.2500, 0.2500, 0.2500, 0.2500, 0.0000, 0.0000, 0.0000, 0.0000],\n",
      "        [0.2000, 0.2000, 0.2000, 0.2000, 0.2000, 0.0000, 0.0000, 0.0000],\n",
      "        [0.1667, 0.1667, 0.1667, 0.1667, 0.1667, 0.1667, 0.0000, 0.0000],\n",
      "        [0.1429, 0.1429, 0.1429, 0.1429, 0.1429, 0.1429, 0.1429, 0.0000],\n",
      "        [0.1250, 0.1250, 0.1250, 0.1250, 0.1250, 0.1250, 0.1250, 0.1250]])\n"
     ]
    },
    {
     "data": {
      "text/plain": [
       "True"
      ]
     },
     "execution_count": 50,
     "metadata": {},
     "output_type": "execute_result"
    }
   ],
   "source": [
    "# version 3: use Softmax\n",
    "tril = torch.tril(torch.ones(T, T))\n",
    "wei = torch.zeros((T,T))\n",
    "wei = wei.masked_fill(tril == 0, float('-inf'))\n",
    "print('masked before softmax:')\n",
    "print(wei)\n",
    "wei = F.softmax(wei, dim=-1)\n",
    "print('after softmax')\n",
    "print(wei)\n",
    "\n",
    "xbow3 = wei @ x\n",
    "torch.allclose(xbow, xbow3, 1e-4)"
   ]
  },
  {
   "cell_type": "markdown",
   "metadata": {
    "id": "wPVoiJaJnd7I"
   },
   "source": [
    "Now we are ready for __self-attention__!\n",
    "\n",
    "In a nutshell, this mechanism is just a weighted combination of the given embeddings with some tweaks:\n",
    "- Weights are data-based: model can decide for itself which vector is useful (and we should give it bigger weight) and which is not\n",
    "- Instead of a raw input we operate with projections: _Key_, _Query_, _Value_"
   ]
  },
  {
   "cell_type": "code",
   "execution_count": 51,
   "metadata": {
    "colab": {
     "base_uri": "https://localhost:8080/"
    },
    "id": "EDarxEWIRMKq",
    "outputId": "93bfd4d2-6d33-47de-f269-b7119f138f7e"
   },
   "outputs": [
    {
     "data": {
      "text/plain": [
       "torch.Size([4, 8, 16])"
      ]
     },
     "execution_count": 51,
     "metadata": {},
     "output_type": "execute_result"
    }
   ],
   "source": [
    "# version 4: self-attention!\n",
    "torch.manual_seed(1337)\n",
    "B,T,C = 4,8,32 # batch, time, channels\n",
    "x = torch.randn(B,T,C)\n",
    "\n",
    "# let's see a single Head perform self-attention\n",
    "head_size = 16\n",
    "# some mnemonic rules:\n",
    "query = nn.Linear(C, head_size, bias=False)  # what I'm looking for\n",
    "key = nn.Linear(C, head_size, bias=False)  # what I can give you\n",
    "value = nn.Linear(C, head_size, bias=False)  # what is the value for original token\n",
    "\n",
    "k = key(x)   # (B, T, C) @ (C, 16) ---> (B, T, 16)\n",
    "q = query(x) # (B, T, C) @ (C, 16) ---> (B, T, 16)\n",
    "\n",
    "## it was\n",
    "#wei = torch.zeros((T,T))\n",
    "## now it's\n",
    "wei =  q @ k.transpose(-2, -1) # (B, T, 16) @ (B, 16, T) ---> (B, T, T)\n",
    "\n",
    "tril = torch.tril(torch.ones(T, T))\n",
    "wei = wei.masked_fill(tril == 0, float('-inf'))\n",
    "wei = F.softmax(wei, dim=-1)\n",
    "\n",
    "v = value(x)\n",
    "\n",
    "## it was\n",
    "#out = wei @ x\n",
    "## now it's\n",
    "out = wei @ v\n",
    "\n",
    "out.shape"
   ]
  },
  {
   "cell_type": "code",
   "execution_count": 52,
   "metadata": {
    "colab": {
     "base_uri": "https://localhost:8080/"
    },
    "id": "vT1hdtzXCjgL",
    "outputId": "f6725b26-5bbd-4717-8431-a3b7becf4d24"
   },
   "outputs": [
    {
     "data": {
      "text/plain": [
       "tensor([[1.0000, 0.0000, 0.0000, 0.0000, 0.0000, 0.0000, 0.0000, 0.0000],\n",
       "        [0.5877, 0.4123, 0.0000, 0.0000, 0.0000, 0.0000, 0.0000, 0.0000],\n",
       "        [0.4457, 0.2810, 0.2733, 0.0000, 0.0000, 0.0000, 0.0000, 0.0000],\n",
       "        [0.2220, 0.7496, 0.0175, 0.0109, 0.0000, 0.0000, 0.0000, 0.0000],\n",
       "        [0.0379, 0.0124, 0.0412, 0.0630, 0.8454, 0.0000, 0.0000, 0.0000],\n",
       "        [0.5497, 0.2187, 0.0185, 0.0239, 0.1831, 0.0062, 0.0000, 0.0000],\n",
       "        [0.2576, 0.0830, 0.0946, 0.0241, 0.1273, 0.3627, 0.0507, 0.0000],\n",
       "        [0.0499, 0.1052, 0.0302, 0.0281, 0.1980, 0.2657, 0.1755, 0.1474]],\n",
       "       grad_fn=<SelectBackward0>)"
      ]
     },
     "execution_count": 52,
     "metadata": {},
     "output_type": "execute_result"
    }
   ],
   "source": [
    "wei[0]"
   ]
  },
  {
   "cell_type": "markdown",
   "metadata": {
    "id": "M5CvobiQ0pLr"
   },
   "source": [
    "Notes:\n",
    "- Attention is a **communication mechanism**. Can be seen as nodes in a directed graph looking at each other and aggregating information with a weighted sum from all nodes that point to them, with data-dependent weights.\n",
    "- There is no notion of space. Attention simply acts over a set of vectors. This is why we need to positionally encode tokens.\n",
    "- Each example across batch dimension is of course processed completely independently and never \"talk\" to each other\n",
    "- In an \"encoder\" attention block just delete the single line that does masking with `tril`, allowing all tokens to communicate. This block here is called a \"decoder\" attention block because it has triangular masking, and is usually used in autoregressive settings, like language modeling.\n",
    "- \"self-attention\" just means that the keys and values are produced from the same source as queries. In \"cross-attention\", the queries still get produced from x, but the keys and values come from some other, external source (e.g. an encoder module)\n",
    "- \"Scaled\" attention additional divides `wei` by 1/sqrt(head_size). This makes it so when input Q,K are unit variance, wei will be unit variance too and Softmax will stay diffuse and not saturate too much. Illustration below"
   ]
  },
  {
   "cell_type": "code",
   "execution_count": 53,
   "metadata": {
    "id": "4SNbLq5z3oBw"
   },
   "outputs": [],
   "source": [
    "k = torch.randn(B,T,head_size)\n",
    "q = torch.randn(B,T,head_size)\n",
    "wei_no_norm = q @ k.transpose(-2, -1)\n",
    "wei = q @ k.transpose(-2, -1) * head_size**-0.5"
   ]
  },
  {
   "cell_type": "code",
   "execution_count": 54,
   "metadata": {
    "colab": {
     "base_uri": "https://localhost:8080/"
    },
    "id": "Nl6I9n9IRTSo",
    "outputId": "efa27fb8-a153-4f8c-9568-644e3b3cea40"
   },
   "outputs": [
    {
     "data": {
      "text/plain": [
       "tensor(1.0449)"
      ]
     },
     "execution_count": 54,
     "metadata": {},
     "output_type": "execute_result"
    }
   ],
   "source": [
    "k.var()"
   ]
  },
  {
   "cell_type": "code",
   "execution_count": 55,
   "metadata": {
    "colab": {
     "base_uri": "https://localhost:8080/"
    },
    "id": "T1tQx7oeRvtc",
    "outputId": "bcc7d99a-f3f1-4f79-8bd0-8e45975a64a1"
   },
   "outputs": [
    {
     "data": {
      "text/plain": [
       "tensor(1.0700)"
      ]
     },
     "execution_count": 55,
     "metadata": {},
     "output_type": "execute_result"
    }
   ],
   "source": [
    "q.var()"
   ]
  },
  {
   "cell_type": "code",
   "execution_count": 56,
   "metadata": {
    "colab": {
     "base_uri": "https://localhost:8080/"
    },
    "id": "r2FlIR-TqRp4",
    "outputId": "57ce4889-0102-4351-e259-915c52fe0be2"
   },
   "outputs": [
    {
     "data": {
      "text/plain": [
       "tensor(17.4690)"
      ]
     },
     "execution_count": 56,
     "metadata": {},
     "output_type": "execute_result"
    }
   ],
   "source": [
    "wei_no_norm.var()"
   ]
  },
  {
   "cell_type": "code",
   "execution_count": 57,
   "metadata": {
    "colab": {
     "base_uri": "https://localhost:8080/"
    },
    "id": "MLb_odHU3iKM",
    "outputId": "f5547cce-e395-47db-c05a-0701de036c96"
   },
   "outputs": [
    {
     "data": {
      "text/plain": [
       "tensor(1.0918)"
      ]
     },
     "execution_count": 57,
     "metadata": {},
     "output_type": "execute_result"
    }
   ],
   "source": [
    "wei.var()"
   ]
  },
  {
   "cell_type": "code",
   "execution_count": 58,
   "metadata": {
    "colab": {
     "base_uri": "https://localhost:8080/"
    },
    "id": "JB82yzt44REI",
    "outputId": "75eb0df5-06c9-4f8e-9975-6341bdb0d6df"
   },
   "outputs": [
    {
     "data": {
      "text/plain": [
       "tensor([0.1925, 0.1426, 0.2351, 0.1426, 0.2872])"
      ]
     },
     "execution_count": 58,
     "metadata": {},
     "output_type": "execute_result"
    }
   ],
   "source": [
    "torch.softmax(torch.tensor([0.1, -0.2, 0.3, -0.2, 0.5]), dim=-1)"
   ]
  },
  {
   "cell_type": "code",
   "execution_count": 59,
   "metadata": {
    "colab": {
     "base_uri": "https://localhost:8080/"
    },
    "id": "Mpt8569BB9_f",
    "outputId": "0ff87f83-f88b-4b23-c01e-ca157fa940dc"
   },
   "outputs": [
    {
     "data": {
      "text/plain": [
       "tensor([0.0326, 0.0030, 0.1615, 0.0030, 0.8000])"
      ]
     },
     "execution_count": 59,
     "metadata": {},
     "output_type": "execute_result"
    }
   ],
   "source": [
    "torch.softmax(torch.tensor([0.1, -0.2, 0.3, -0.2, 0.5])*8, dim=-1) # gets too peaky, converges to one-hot"
   ]
  },
  {
   "cell_type": "code",
   "execution_count": 60,
   "metadata": {
    "colab": {
     "base_uri": "https://localhost:8080/"
    },
    "id": "2Num7sX9CKOH",
    "outputId": "5cf459c0-e89e-49e2-97d3-db69df38c2a2"
   },
   "outputs": [
    {
     "data": {
      "text/plain": [
       "torch.Size([32, 100])"
      ]
     },
     "execution_count": 60,
     "metadata": {},
     "output_type": "execute_result"
    }
   ],
   "source": [
    "class LayerNorm1d: # (used to be BatchNorm1d)\n",
    "\n",
    "  def __init__(self, dim, eps=1e-5, momentum=0.1):\n",
    "    self.eps = eps\n",
    "    self.gamma = torch.ones(dim)\n",
    "    self.beta = torch.zeros(dim)\n",
    "\n",
    "  def __call__(self, x):\n",
    "    # calculate the forward pass\n",
    "    xmean = x.mean(1, keepdim=True) # batch mean\n",
    "    xvar = x.var(1, keepdim=True) # batch variance\n",
    "    xhat = (x - xmean) / torch.sqrt(xvar + self.eps) # normalize to unit variance\n",
    "    self.out = self.gamma * xhat + self.beta\n",
    "    return self.out\n",
    "\n",
    "  def parameters(self):\n",
    "    return [self.gamma, self.beta]\n",
    "\n",
    "torch.manual_seed(1337)\n",
    "module = LayerNorm1d(100)\n",
    "x = torch.randn(32, 100) # batch size 32 of 100-dimensional vectors\n",
    "x = module(x)\n",
    "x.shape"
   ]
  },
  {
   "cell_type": "code",
   "execution_count": 61,
   "metadata": {
    "colab": {
     "base_uri": "https://localhost:8080/"
    },
    "id": "633T2cmnW1uk",
    "outputId": "577d1ffe-0694-48b8-882f-ff1aebf64502"
   },
   "outputs": [
    {
     "data": {
      "text/plain": [
       "(tensor(0.1469), tensor(0.8803))"
      ]
     },
     "execution_count": 61,
     "metadata": {},
     "output_type": "execute_result"
    }
   ],
   "source": [
    "x[:,0].mean(), x[:,0].std() # mean,std of one feature across all batch inputs"
   ]
  },
  {
   "cell_type": "code",
   "execution_count": 62,
   "metadata": {
    "colab": {
     "base_uri": "https://localhost:8080/"
    },
    "id": "LN9cK9BoXCYb",
    "outputId": "58195b72-adae-48b6-ef9c-887cf78cfff7"
   },
   "outputs": [
    {
     "data": {
      "text/plain": [
       "(tensor(-3.5763e-09), tensor(1.0000))"
      ]
     },
     "execution_count": 62,
     "metadata": {},
     "output_type": "execute_result"
    }
   ],
   "source": [
    "x[0,:].mean(), x[0,:].std() # mean,std of a single input from the batch, of its features"
   ]
  },
  {
   "cell_type": "code",
   "execution_count": 63,
   "metadata": {
    "id": "dRJH6wM_XFfU"
   },
   "outputs": [],
   "source": [
    "# French to English translation example:\n",
    "\n",
    "# <--------- ENCODE ------------------><--------------- DECODE ----------------->\n",
    "# les réseaux de neurones sont géniaux! <START> neural networks are awesome!<END>\n",
    "\n"
   ]
  },
  {
   "cell_type": "markdown",
   "metadata": {
    "id": "ZcvKeBXoZFOY"
   },
   "source": [
    "### Full finished code, for reference\n",
    "\n",
    "You may want to refer directly to the [git repo](https://github.com/karpathy/nanoGPT) instead though."
   ]
  },
  {
   "cell_type": "code",
   "execution_count": 64,
   "metadata": {
    "colab": {
     "base_uri": "https://localhost:8080/"
    },
    "id": "hoelkOrFY8bN",
    "outputId": "961304cd-e379-40d4-dd56-8de0b91d2861"
   },
   "outputs": [
    {
     "name": "stdout",
     "output_type": "stream",
     "text": [
      "0.209729 M parameters\n",
      "step 0: train loss 4.4116, val loss 4.4022\n",
      "step 100: train loss 2.6568, val loss 2.6670\n",
      "step 200: train loss 2.5090, val loss 2.5058\n",
      "step 300: train loss 2.4195, val loss 2.4335\n",
      "step 400: train loss 2.3501, val loss 2.3562\n",
      "step 500: train loss 2.2965, val loss 2.3129\n",
      "step 600: train loss 2.2410, val loss 2.2497\n",
      "step 700: train loss 2.2049, val loss 2.2187\n",
      "step 800: train loss 2.1637, val loss 2.1869\n",
      "step 900: train loss 2.1233, val loss 2.1493\n",
      "step 1000: train loss 2.1026, val loss 2.1307\n",
      "step 1100: train loss 2.0704, val loss 2.1189\n",
      "step 1200: train loss 2.0386, val loss 2.0800\n",
      "step 1300: train loss 2.0256, val loss 2.0645\n",
      "step 1400: train loss 1.9925, val loss 2.0360\n",
      "step 1500: train loss 1.9724, val loss 2.0314\n",
      "step 1600: train loss 1.9633, val loss 2.0482\n",
      "step 1700: train loss 1.9412, val loss 2.0126\n",
      "step 1800: train loss 1.9116, val loss 1.9984\n",
      "step 1900: train loss 1.9065, val loss 1.9857\n",
      "step 2000: train loss 1.8859, val loss 1.9960\n",
      "step 2100: train loss 1.8715, val loss 1.9753\n",
      "step 2200: train loss 1.8563, val loss 1.9587\n",
      "step 2300: train loss 1.8540, val loss 1.9508\n",
      "step 2400: train loss 1.8431, val loss 1.9443\n",
      "step 2500: train loss 1.8180, val loss 1.9453\n",
      "step 2600: train loss 1.8239, val loss 1.9381\n",
      "step 2700: train loss 1.8095, val loss 1.9302\n",
      "step 2800: train loss 1.8044, val loss 1.9221\n",
      "step 2900: train loss 1.8044, val loss 1.9295\n",
      "step 3000: train loss 1.7969, val loss 1.9227\n",
      "step 3100: train loss 1.7674, val loss 1.9160\n",
      "step 3200: train loss 1.7520, val loss 1.9093\n",
      "step 3300: train loss 1.7558, val loss 1.9062\n",
      "step 3400: train loss 1.7575, val loss 1.8952\n",
      "step 3500: train loss 1.7373, val loss 1.8931\n",
      "step 3600: train loss 1.7249, val loss 1.8891\n",
      "step 3700: train loss 1.7279, val loss 1.8798\n",
      "step 3800: train loss 1.7201, val loss 1.8898\n",
      "step 3900: train loss 1.7204, val loss 1.8705\n",
      "step 4000: train loss 1.7166, val loss 1.8646\n",
      "step 4100: train loss 1.7111, val loss 1.8760\n",
      "step 4200: train loss 1.7076, val loss 1.8679\n",
      "step 4300: train loss 1.6984, val loss 1.8483\n",
      "step 4400: train loss 1.7047, val loss 1.8642\n",
      "step 4500: train loss 1.6897, val loss 1.8497\n",
      "step 4600: train loss 1.6877, val loss 1.8359\n",
      "step 4700: train loss 1.6824, val loss 1.8359\n",
      "step 4800: train loss 1.6666, val loss 1.8429\n",
      "step 4900: train loss 1.6692, val loss 1.8365\n",
      "step 4999: train loss 1.6637, val loss 1.8223\n",
      "\n",
      "FlY BOLINGHARD:\n",
      "Nay, humble bewitt me;\n",
      "S the murcy trike begatar TI see it\n",
      "What sate, and for one that I arta edon\n",
      "the curthmen?\n",
      "With.\n",
      "\n",
      "ARCHITINGHA:\n",
      "Where it, my rie trust is not diesty arm;\n",
      "You sea dishy to name Burryrely.\n",
      "\n",
      "BRANNA:\n",
      "Where arbold; sea, it I war you;\n",
      "Whose may would may clove, one yoursed as mall,\n",
      "vou go if weret, when we provove in agarte a noncead,\n",
      "And if the bavideribed in crat's but.\n",
      "Go o', betcanne with your satomesh\n",
      "Of troth worge it; he anour,\n",
      "Butchution the solle, those make me,\n",
      "And fliess, my conforte, nob to-mistly untralid to be thre I have not\n",
      "Is am a battes be men\n",
      "Comany come, may that his repury, betting due\n",
      "her stage was babsol! and now your and\n",
      "town, to spy you,\n",
      "Go coursein to stay Lot ascassend,\n",
      "That you hold all gentled to plartesh\n",
      "That servort shall for the promain.\n",
      "\n",
      "KING HENRY VI:\n",
      "Tower for\n",
      "Crittle riest: and weere.\n",
      "\n",
      "DUKE VINCENTIO:\n",
      "Disspy guase, we mine! crut, if your your:\n",
      "I shaull of that neque he pray, is,\n",
      "Thou the has seing, then. is with the sacrance aft part no fathy from.\n",
      "\n",
      "Provome his here.\n",
      "\n",
      "ROMEO:\n",
      "Cainterning, will be in him stal'st twith prevant,\n",
      "For the her skeep the fasting. joy to you would do this: keep,\n",
      "But his all voling so at\n",
      "in his not head malte\n",
      "That that gentrante well.\n",
      "O, hit, but I'll dosce the sport cases'd.\n",
      "\n",
      "ISABTH:\n",
      "My master the slands you great, I shalk I short.\n",
      "\n",
      "RICLIFFORD:\n",
      "Is you thus sume?\n",
      "\n",
      "POMBBERDALE:\n",
      "Yhu have it of us Volner, she behome,\n",
      "By grects, we wilth the die.\n",
      "\n",
      "CORIOLA:\n",
      "Nou, noarto? to your grace.\n",
      "\n",
      "DUKE VINCENTIO:\n",
      "All brackined you havois mon the ordiren,\n",
      "And you beast, have us drue. comf, where 'twon elmes, 'word.\n",
      "\n",
      "POMPEO:\n",
      "Whun bot azarth, my signires crybands?\n",
      "\n",
      "PORFORD Netwas honoursap with to you.\n",
      "\n",
      "JOHN ENV:\n",
      "Ho heise the doneshrean an mantakent themseface tell servy in enscy.\n",
      "\n",
      "ISABELLA:\n",
      "O, lave to my are so such formsed;\n",
      "Our the Clawarders, yet unserry would\n",
      "Share dayneds fullies of be twe to arms.\n",
      "\n",
      "ROMEO:\n",
      "Of the preasurse comison toO: then them full'tts-down\n",
      "Thus, what I pearined?\n",
      "And think\n"
     ]
    }
   ],
   "source": [
    "import torch\n",
    "import torch.nn as nn\n",
    "from torch.nn import functional as F\n",
    "\n",
    "# hyperparameters\n",
    "batch_size = 16 # how many independent sequences will we process in parallel?\n",
    "block_size = 32 # what is the maximum context length for predictions?\n",
    "max_iters = 5000\n",
    "eval_interval = 100\n",
    "learning_rate = 1e-3\n",
    "device = 'cuda' if torch.cuda.is_available() else 'cpu'\n",
    "eval_iters = 200\n",
    "n_embd = 64\n",
    "n_head = 4\n",
    "n_layer = 4\n",
    "dropout = 0.0\n",
    "# ------------\n",
    "\n",
    "torch.manual_seed(1337)\n",
    "\n",
    "# wget https://raw.githubusercontent.com/karpathy/char-rnn/master/data/tinyshakespeare/input.txt\n",
    "with open('input.txt', 'r', encoding='utf-8') as f:\n",
    "    text = f.read()\n",
    "\n",
    "# here are all the unique characters that occur in this text\n",
    "chars = sorted(list(set(text)))\n",
    "vocab_size = len(chars)\n",
    "# create a mapping from characters to integers\n",
    "stoi = { ch:i for i,ch in enumerate(chars) }\n",
    "itos = { i:ch for i,ch in enumerate(chars) }\n",
    "encode = lambda s: [stoi[c] for c in s] # encoder: take a string, output a list of integers\n",
    "decode = lambda l: ''.join([itos[i] for i in l]) # decoder: take a list of integers, output a string\n",
    "\n",
    "# Train and test splits\n",
    "data = torch.tensor(encode(text), dtype=torch.long)\n",
    "n = int(0.9*len(data)) # first 90% will be train, rest val\n",
    "train_data = data[:n]\n",
    "val_data = data[n:]\n",
    "\n",
    "# data loading\n",
    "def get_batch(split):\n",
    "    # generate a small batch of data of inputs x and targets y\n",
    "    data = train_data if split == 'train' else val_data\n",
    "    ix = torch.randint(len(data) - block_size, (batch_size,))\n",
    "    x = torch.stack([data[i:i+block_size] for i in ix])\n",
    "    y = torch.stack([data[i+1:i+block_size+1] for i in ix])\n",
    "    x, y = x.to(device), y.to(device)\n",
    "    return x, y\n",
    "\n",
    "@torch.no_grad()\n",
    "def estimate_loss():\n",
    "    out = {}\n",
    "    model.eval()\n",
    "    for split in ['train', 'val']:\n",
    "        losses = torch.zeros(eval_iters)\n",
    "        for k in range(eval_iters):\n",
    "            X, Y = get_batch(split)\n",
    "            logits, loss = model(X, Y)\n",
    "            losses[k] = loss.item()\n",
    "        out[split] = losses.mean()\n",
    "    model.train()\n",
    "    return out\n",
    "\n",
    "class Head(nn.Module):\n",
    "    \"\"\" one head of self-attention \"\"\"\n",
    "\n",
    "    def __init__(self, head_size):\n",
    "        super().__init__()\n",
    "        self.key = nn.Linear(n_embd, head_size, bias=False)\n",
    "        self.query = nn.Linear(n_embd, head_size, bias=False)\n",
    "        self.value = nn.Linear(n_embd, head_size, bias=False)\n",
    "        self.register_buffer('tril', torch.tril(torch.ones(block_size, block_size)))\n",
    "\n",
    "        self.dropout = nn.Dropout(dropout)\n",
    "\n",
    "    def forward(self, x):\n",
    "        B,T,C = x.shape\n",
    "        k = self.key(x)   # (B,T,C)\n",
    "        q = self.query(x) # (B,T,C)\n",
    "        # compute attention scores (\"affinities\")\n",
    "        wei = q @ k.transpose(-2,-1) * C**-0.5 # (B, T, C) @ (B, C, T) -> (B, T, T)\n",
    "        wei = wei.masked_fill(self.tril[:T, :T] == 0, float('-inf')) # (B, T, T)\n",
    "        wei = F.softmax(wei, dim=-1) # (B, T, T)\n",
    "        wei = self.dropout(wei)\n",
    "        # perform the weighted aggregation of the values\n",
    "        v = self.value(x) # (B,T,C)\n",
    "        out = wei @ v # (B, T, T) @ (B, T, C) -> (B, T, C)\n",
    "        return out\n",
    "\n",
    "class MultiHeadAttention(nn.Module):\n",
    "    \"\"\" multiple heads of self-attention in parallel \"\"\"\n",
    "\n",
    "    def __init__(self, num_heads, head_size):\n",
    "        super().__init__()\n",
    "        self.heads = nn.ModuleList([Head(head_size) for _ in range(num_heads)])\n",
    "        self.proj = nn.Linear(n_embd, n_embd)\n",
    "        self.dropout = nn.Dropout(dropout)\n",
    "\n",
    "    def forward(self, x):\n",
    "        out = torch.cat([h(x) for h in self.heads], dim=-1)\n",
    "        out = self.dropout(self.proj(out))\n",
    "        return out\n",
    "\n",
    "class FeedFoward(nn.Module):\n",
    "    \"\"\" a simple linear layer followed by a non-linearity \"\"\"\n",
    "\n",
    "    def __init__(self, n_embd):\n",
    "        super().__init__()\n",
    "        self.net = nn.Sequential(\n",
    "            nn.Linear(n_embd, 4 * n_embd),\n",
    "            nn.ReLU(),\n",
    "            nn.Linear(4 * n_embd, n_embd),\n",
    "            nn.Dropout(dropout),\n",
    "        )\n",
    "\n",
    "    def forward(self, x):\n",
    "        return self.net(x)\n",
    "\n",
    "class Block(nn.Module):\n",
    "    \"\"\" Transformer block: communication followed by computation \"\"\"\n",
    "\n",
    "    def __init__(self, n_embd, n_head):\n",
    "        # n_embd: embedding dimension, n_head: the number of heads we'd like\n",
    "        super().__init__()\n",
    "        head_size = n_embd // n_head\n",
    "        self.sa = MultiHeadAttention(n_head, head_size)\n",
    "        self.ffwd = FeedFoward(n_embd)\n",
    "        self.ln1 = nn.LayerNorm(n_embd)\n",
    "        self.ln2 = nn.LayerNorm(n_embd)\n",
    "\n",
    "    def forward(self, x):\n",
    "        x = x + self.sa(self.ln1(x))\n",
    "        x = x + self.ffwd(self.ln2(x))\n",
    "        return x\n",
    "\n",
    "class GPTLikeModel(nn.Module):\n",
    "\n",
    "    def __init__(self):\n",
    "        super().__init__()\n",
    "        # each token directly reads off the logits for the next token from a lookup table\n",
    "        self.token_embedding_table = nn.Embedding(vocab_size, n_embd)\n",
    "        self.position_embedding_table = nn.Embedding(block_size, n_embd)\n",
    "        self.blocks = nn.Sequential(*[Block(n_embd, n_head=n_head) for _ in range(n_layer)])\n",
    "        self.ln_f = nn.LayerNorm(n_embd) # final layer norm\n",
    "        self.lm_head = nn.Linear(n_embd, vocab_size)\n",
    "\n",
    "    def forward(self, idx, targets=None):\n",
    "        B, T = idx.shape\n",
    "\n",
    "        # idx and targets are both (B,T) tensor of integers\n",
    "        tok_emb = self.token_embedding_table(idx) # (B,T,C)\n",
    "        pos_emb = self.position_embedding_table(torch.arange(T, device=device)) # (T,C)\n",
    "        x = tok_emb + pos_emb # (B,T,C)\n",
    "        x = self.blocks(x) # (B,T,C)\n",
    "        x = self.ln_f(x) # (B,T,C)\n",
    "        logits = self.lm_head(x) # (B,T,vocab_size)\n",
    "\n",
    "        if targets is None:\n",
    "            loss = None\n",
    "        else:\n",
    "            B, T, C = logits.shape\n",
    "            logits = logits.view(B*T, C)\n",
    "            targets = targets.view(B*T)\n",
    "            loss = F.cross_entropy(logits, targets)\n",
    "\n",
    "        return logits, loss\n",
    "\n",
    "    def generate(self, idx, max_new_tokens):\n",
    "        # idx is (B, T) array of indices in the current context\n",
    "        for _ in range(max_new_tokens):\n",
    "            # crop idx to the last block_size tokens\n",
    "            idx_cond = idx[:, -block_size:]\n",
    "            # get the predictions\n",
    "            logits, loss = self(idx_cond)\n",
    "            # focus only on the last time step\n",
    "            logits = logits[:, -1, :] # becomes (B, C)\n",
    "            # apply softmax to get probabilities\n",
    "            probs = F.softmax(logits, dim=-1) # (B, C)\n",
    "            # sample from the distribution\n",
    "            idx_next = torch.multinomial(probs, num_samples=1) # (B, 1)\n",
    "            # append sampled index to the running sequence\n",
    "            idx = torch.cat((idx, idx_next), dim=1) # (B, T+1)\n",
    "        return idx\n",
    "\n",
    "model = GPTLikeModel()\n",
    "m = model.to(device)\n",
    "# print the number of parameters in the model\n",
    "print(sum(p.numel() for p in m.parameters())/1e6, 'M parameters')\n",
    "\n",
    "# create a PyTorch optimizer\n",
    "optimizer = torch.optim.AdamW(model.parameters(), lr=learning_rate)\n",
    "\n",
    "for iter in range(max_iters):\n",
    "\n",
    "    # every once in a while evaluate the loss on train and val sets\n",
    "    if iter % eval_interval == 0 or iter == max_iters - 1:\n",
    "        losses = estimate_loss()\n",
    "        print(f\"step {iter}: train loss {losses['train']:.4f}, val loss {losses['val']:.4f}\")\n",
    "\n",
    "    # sample a batch of data\n",
    "    xb, yb = get_batch('train')\n",
    "\n",
    "    # evaluate the loss\n",
    "    logits, loss = model(xb, yb)\n",
    "    optimizer.zero_grad(set_to_none=True)\n",
    "    loss.backward()\n",
    "    optimizer.step()\n",
    "\n",
    "# generate from the model\n",
    "context = torch.zeros((1, 1), dtype=torch.long, device=device)\n",
    "print(decode(m.generate(context, max_new_tokens=2000)[0].tolist()))\n"
   ]
  },
  {
   "cell_type": "markdown",
   "metadata": {
    "id": "NPgAHf3xrCow"
   },
   "source": [
    "---"
   ]
  }
 ],
 "metadata": {
  "colab": {
   "provenance": []
  },
  "kernelspec": {
   "display_name": ".venv",
   "language": "python",
   "name": "python3"
  },
  "language_info": {
   "codemirror_mode": {
    "name": "ipython",
    "version": 3
   },
   "file_extension": ".py",
   "mimetype": "text/x-python",
   "name": "python",
   "nbconvert_exporter": "python",
   "pygments_lexer": "ipython3",
   "version": "3.12.5"
  }
 },
 "nbformat": 4,
 "nbformat_minor": 0
}
