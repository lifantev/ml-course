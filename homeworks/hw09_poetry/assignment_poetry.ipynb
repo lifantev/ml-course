{
 "cells": [
  {
   "attachments": {},
   "cell_type": "markdown",
   "metadata": {},
   "source": [
    "## Домашнее задание №9\n",
    "### Генерация поэзии с помощью нейронных сетей: шаг 1\n",
    "##### Автор: [Радослав Нейчев](https://www.linkedin.com/in/radoslav-neychev/), @neychev\n",
    "\n",
    "Ваша основная задача: научиться генерироват стихи с помощью простой рекуррентной нейронной сети (Vanilla RNN). В качестве корпуса текстов для обучения будет выступать роман в стихах \"Евгений Онегин\" Александра Сергеевича Пушкина."
   ]
  },
  {
   "cell_type": "code",
   "execution_count": 1,
   "metadata": {},
   "outputs": [],
   "source": [
    "# do not change the code in the block below\n",
    "# __________start of block__________\n",
    "import string\n",
    "import os\n",
    "from random import sample\n",
    "\n",
    "import numpy as np\n",
    "import torch, torch.nn as nn\n",
    "import torch.nn.functional as F\n",
    "\n",
    "from IPython.display import clear_output\n",
    "\n",
    "import matplotlib.pyplot as plt\n",
    "%matplotlib inline\n",
    "# __________end of block__________"
   ]
  },
  {
   "cell_type": "code",
   "execution_count": 2,
   "metadata": {},
   "outputs": [
    {
     "name": "stdout",
     "output_type": "stream",
     "text": [
      "cpu device is available\n"
     ]
    }
   ],
   "source": [
    "# do not change the code in the block below\n",
    "# __________start of block__________\n",
    "device = torch.device('cuda') if torch.cuda.is_available() else torch.device('cpu')\n",
    "print('{} device is available'.format(device))\n",
    "# __________end of block__________"
   ]
  },
  {
   "attachments": {},
   "cell_type": "markdown",
   "metadata": {
    "colab": {
     "base_uri": "https://localhost:8080/"
    },
    "id": "MPenWOy01Ooa",
    "outputId": "a92e8e33-e009-4bd4-ac12-3b1b5e1cd3f2"
   },
   "source": [
    "#### 1. Загрузка данных."
   ]
  },
  {
   "cell_type": "code",
   "execution_count": 3,
   "metadata": {},
   "outputs": [
    {
     "name": "stdout",
     "output_type": "stream",
     "text": [
      "--2024-12-07 22:35:21--  https://raw.githubusercontent.com/neychev/small_DL_repo/master/datasets/onegin.txt\n",
      "Resolving raw.githubusercontent.com (raw.githubusercontent.com)... 185.199.110.133, 185.199.111.133, 185.199.108.133, ...\n",
      "Connecting to raw.githubusercontent.com (raw.githubusercontent.com)|185.199.110.133|:443... connected.\n",
      "HTTP request sent, awaiting response... 200 OK\n",
      "Length: 262521 (256K) [text/plain]\n",
      "Saving to: ‘onegin.txt’\n",
      "\n",
      "onegin.txt          100%[===================>] 256.37K   884KB/s    in 0.3s    \n",
      "\n",
      "2024-12-07 22:35:21 (884 KB/s) - ‘onegin.txt’ saved [262521/262521]\n",
      "\n"
     ]
    }
   ],
   "source": [
    "# do not change the code in the block below\n",
    "# __________start of block__________\n",
    "!wget https://raw.githubusercontent.com/neychev/small_DL_repo/master/datasets/onegin.txt\n",
    "    \n",
    "with open('onegin.txt', 'r') as iofile:\n",
    "    text = iofile.readlines()\n",
    "    \n",
    "text = \"\".join([x.replace('\\t\\t', '').lower() for x in text])\n",
    "# __________end of block__________"
   ]
  },
  {
   "attachments": {},
   "cell_type": "markdown",
   "metadata": {
    "id": "XQYpmGfR_gJ8"
   },
   "source": [
    "#### 2. Построение словаря и предобработка текста\n",
    "В данном задании требуется построить языковую модель на уровне символов. Приведем весь текст к нижнему регистру и построим словарь из всех символов в доступном корпусе текстов. Также добавим токен `<sos>`."
   ]
  },
  {
   "cell_type": "code",
   "execution_count": 5,
   "metadata": {},
   "outputs": [
    {
     "name": "stdout",
     "output_type": "stream",
     "text": [
      "Seems fine!\n"
     ]
    }
   ],
   "source": [
    "# do not change the code in the block below\n",
    "# __________start of block__________\n",
    "tokens = sorted(set(text.lower())) + ['<sos>']\n",
    "num_tokens = len(tokens)\n",
    "\n",
    "assert num_tokens == 84, \"Check the tokenization process\"\n",
    "\n",
    "token_to_idx = {x: idx for idx, x in enumerate(tokens)}\n",
    "idx_to_token = {idx: x for idx, x in enumerate(tokens)}\n",
    "\n",
    "assert len(tokens) == len(token_to_idx), \"Mapping should be unique\"\n",
    "\n",
    "print(\"Seems fine!\")\n",
    "\n",
    "\n",
    "text_encoded = [token_to_idx[x] for x in text]\n",
    "# __________end of block__________"
   ]
  },
  {
   "attachments": {},
   "cell_type": "markdown",
   "metadata": {},
   "source": [
    "__Ваша задача__: обучить классическую рекуррентную нейронную сеть (Vanilla RNN) предсказывать следующий символ на полученном корпусе текстов и сгенерировать последовательность длины 100 для фиксированной начальной фразы.\n",
    "\n",
    "Вы можете воспользоваться кодом с занятие №6 или же обратиться к следующим ссылкам:\n",
    "* Замечательная статья за авторством Andrej Karpathy об использовании RNN: [link](http://karpathy.github.io/2015/05/21/rnn-effectiveness/)\n",
    "* Пример char-rnn от Andrej Karpathy: [github repo](https://github.com/karpathy/char-rnn)\n",
    "* Замечательный пример генерации поэзии Шекспира: [github repo](https://github.com/spro/practical-pytorch/blob/master/char-rnn-generation/char-rnn-generation.ipynb)\n",
    "\n",
    "Данное задание является достаточно творческим. Не страшно, если поначалу оно вызывает затруднения. Последняя ссылка в списке выше может быть особенно полезна в данном случае.\n",
    "\n",
    "Далее для вашего удобства реализована функция, которая генерирует случайный батч размера `batch_size` из строк длиной `seq_length`. Вы можете использовать его при обучении модели."
   ]
  },
  {
   "cell_type": "code",
   "execution_count": 6,
   "metadata": {},
   "outputs": [],
   "source": [
    "# do not change the code in the block below\n",
    "# __________start of block__________\n",
    "batch_size = 256\n",
    "seq_length = 100\n",
    "start_column = np.zeros((batch_size, 1), dtype=int) + token_to_idx['<sos>']\n",
    "\n",
    "def generate_chunk():\n",
    "    global text_encoded, start_column, batch_size, seq_length\n",
    "\n",
    "    start_index = np.random.randint(0, len(text_encoded) - batch_size*seq_length - 1)\n",
    "    data = np.array(text_encoded[start_index:start_index + batch_size*seq_length]).reshape((batch_size, -1))\n",
    "    yield np.hstack((start_column, data))\n",
    "# __________end of block__________    "
   ]
  },
  {
   "attachments": {},
   "cell_type": "markdown",
   "metadata": {},
   "source": [
    "Пример батча:"
   ]
  },
  {
   "cell_type": "code",
   "execution_count": 7,
   "metadata": {},
   "outputs": [
    {
     "data": {
      "text/plain": [
       "array([[83, 56, 50, ..., 47,  1, 60],\n",
       "       [83, 59, 74, ..., 51, 50,  1],\n",
       "       [83, 49, 45, ..., 47,  5,  0],\n",
       "       ...,\n",
       "       [83,  1, 59, ..., 47,  1, 57],\n",
       "       [83, 72, 62, ...,  1, 59,  1],\n",
       "       [83, 49, 45, ...,  1, 61, 45]])"
      ]
     },
     "execution_count": 7,
     "metadata": {},
     "output_type": "execute_result"
    }
   ],
   "source": [
    "next(generate_chunk())"
   ]
  },
  {
   "attachments": {},
   "cell_type": "markdown",
   "metadata": {},
   "source": [
    "Далее вам предстоит написать код для обучения модели и генерации текста."
   ]
  },
  {
   "cell_type": "code",
   "execution_count": 172,
   "metadata": {},
   "outputs": [],
   "source": [
    "# your beautiful experiments here\n",
    "class PoetryRNN(nn.Module):\n",
    "    def __init__(self, num_tokens, hidden_size=100):\n",
    "        super(self.__class__, self).__init__()\n",
    "\n",
    "        self.hidden_size = hidden_size\n",
    "        self.embedding = nn.Embedding(num_tokens, hidden_size)\n",
    "        self.W_hh = nn.Linear(hidden_size, hidden_size)\n",
    "        self.W_xh = nn.Linear(hidden_size, hidden_size)\n",
    "        self.tanh = nn.Tanh()\n",
    "        self.W_ho = nn.Linear(hidden_size, num_tokens)\n",
    "\n",
    "    def forward(self, X, h):\n",
    "        embed = self.embedding(X)\n",
    "        h_new = self.tanh(self.W_xh(embed) + self.W_hh(h))\n",
    "        output = self.W_ho(h_new)\n",
    "        return output, h_new\n",
    "\n",
    "    def init_hidden(self, batch_size):\n",
    "        return torch.zeros(batch_size, self.hidden_size)\n",
    "\n",
    "model = PoetryRNN(num_tokens=len(tokens))\n",
    "optim = torch.optim.Adam(model.parameters(), lr=1e-4)\n",
    "loss_func = nn.CrossEntropyLoss()"
   ]
  },
  {
   "cell_type": "code",
   "execution_count": 173,
   "metadata": {},
   "outputs": [],
   "source": [
    "def rnn_loop(rnn_model, batch_data):\n",
    "    batch_size, seq_length = batch_data.size()\n",
    "    hidden_state = rnn_model.init_hidden(batch_size)\n",
    "\n",
    "    outputs = []\n",
    "    for i in range(seq_length):\n",
    "        x_i = batch_data[:, i]\n",
    "        output, hidden_state = rnn_model(x_i, hidden_state)\n",
    "        outputs.append(output)\n",
    "\n",
    "    outputs = torch.stack(outputs, dim=1)\n",
    "\n",
    "    return outputs "
   ]
  },
  {
   "attachments": {},
   "cell_type": "markdown",
   "metadata": {},
   "source": [
    "В качестве иллюстрации ниже доступен график значений функции потерь, построенный в ходе обучения авторской сети (сам код для ее обучения вам и предстоит написать)."
   ]
  },
  {
   "cell_type": "code",
   "execution_count": 174,
   "metadata": {},
   "outputs": [
    {
     "data": {
      "image/png": "[encoded data removed]",
      "text/plain": [
       "<Figure size 640x480 with 1 Axes>"
      ]
     },
     "metadata": {},
     "output_type": "display_data"
    }
   ],
   "source": [
    "history = []\n",
    "epochs = 5000\n",
    "\n",
    "model.train()\n",
    "for i in range(epochs):\n",
    "    batch_data = torch.tensor(next(generate_chunk()), dtype=torch.int64)\n",
    "\n",
    "    batch_data = torch.tensor(next(generate_chunk()), dtype=torch.long)\n",
    "\n",
    "    input_seq = batch_data[:, :-1]\n",
    "    target_seq = batch_data[:, 1:]\n",
    "\n",
    "    optim.zero_grad()\n",
    "\n",
    "    outputs = rnn_loop(model, input_seq)\n",
    "\n",
    "    outputs = outputs.reshape(-1, outputs.size(-1))\n",
    "    targets = target_seq.reshape(-1)\n",
    "    loss = loss_func(outputs, targets)\n",
    "\n",
    "    loss.backward()\n",
    "    optim.step()\n",
    "\n",
    "    history.append(loss.item())\n",
    "\n",
    "    if (i+1) % 250 == 0:\n",
    "        clear_output(True)\n",
    "        plt.plot(history, label='loss')\n",
    "        plt.legend()\n",
    "        plt.show()"
   ]
  },
  {
   "attachments": {},
   "cell_type": "markdown",
   "metadata": {},
   "source": [
    "Шаблон функции `generate_sample` также доступен ниже. Вы можете как дозаполнить его, так и написать свою собственную функцию с нуля. Не забывайте, что все примеры в обучающей выборке начинались с токена `<sos>`."
   ]
  },
  {
   "cell_type": "code",
   "execution_count": 175,
   "metadata": {},
   "outputs": [
    {
     "data": {
      "text/plain": [
       "PoetryRNN(\n",
       "  (embedding): Embedding(84, 100)\n",
       "  (W_hh): Linear(in_features=100, out_features=100, bias=True)\n",
       "  (W_xh): Linear(in_features=100, out_features=100, bias=True)\n",
       "  (tanh): Tanh()\n",
       "  (W_ho): Linear(in_features=100, out_features=84, bias=True)\n",
       ")"
      ]
     },
     "execution_count": 175,
     "metadata": {},
     "output_type": "execute_result"
    }
   ],
   "source": [
    "model.eval()"
   ]
  },
  {
   "cell_type": "code",
   "execution_count": 176,
   "metadata": {},
   "outputs": [],
   "source": [
    "def generate_sample(char_rnn, seed_phrase=None, max_length=200, temperature=1.0, device=device):\n",
    "    '''\n",
    "    The function generates text given a phrase of length at least SEQ_LENGTH.\n",
    "    :param seed_phrase: prefix characters. The RNN is asked to continue the phrase\n",
    "    :param max_length: maximum output length, including seed_phrase\n",
    "    :param temperature: coefficient for sampling.  higher temperature produces more chaotic outputs,\n",
    "                        smaller temperature converges to the single most likely output\n",
    "    '''\n",
    "    \n",
    "    if seed_phrase is not None:\n",
    "        x_sequence = [token_to_idx['<sos>']] + [token_to_idx[token] for token in seed_phrase]\n",
    "    else: \n",
    "        x_sequence = [token_to_idx['<sos>']]\n",
    "\n",
    "    x_sequence = torch.tensor([x_sequence], dtype=torch.int64).to(device)\n",
    "    \n",
    "    #feed the seed phrase, if any\n",
    "    hidden = char_rnn.init_hidden(batch_size=1)\n",
    "    for i in range(len(x_sequence[0]) - 1):\n",
    "        _, hidden = char_rnn(x_sequence[:, i:i+1], hidden)\n",
    "    \n",
    "    # your code here\n",
    "    for _ in range(max_length - len(x_sequence[0]) + 1):\n",
    "        output, hidden = char_rnn(x_sequence[:, -1:], hidden)\n",
    "        p = F.softmax(output / temperature, dim=-1).squeeze().data.numpy()\n",
    "        next_idx = np.random.choice(num_tokens, p=p)\n",
    "        next_idx = torch.tensor([[next_idx]], dtype=torch.int64)\n",
    "        x_sequence = torch.cat([x_sequence, next_idx], dim=1)\n",
    "    \n",
    "    return ''.join([tokens[ix] for ix in x_sequence.cpu().data.numpy()[0]])"
   ]
  },
  {
   "attachments": {},
   "cell_type": "markdown",
   "metadata": {},
   "source": [
    "Пример текста сгенерированного обученной моделью доступен ниже. Не страшно, что в тексте много несуществующих слов. Используемая модель очень проста: это простая классическая RNN."
   ]
  },
  {
   "cell_type": "code",
   "execution_count": 177,
   "metadata": {},
   "outputs": [
    {
     "name": "stdout",
     "output_type": "stream",
     "text": [
      "<sos> мой дядя самых честных правило мна так обегись,\n",
      "гов весель прозирать заменит\n",
      "и закак.\n",
      "\n",
      "\n",
      "\n",
      "ixii\n",
      "\n",
      "так ной:\n",
      "то в уминур ей к субать.\n",
      "\n",
      "\n",
      "\n",
      "xxi горов,\n",
      "моей рожнно гразоя;\n",
      "она и плеть пображда,\n",
      "помасть, чуюм.\n",
      "\n",
      "\n",
      "\n",
      "xv\n",
      "\n",
      "бы в доса ж гочель как бражда постобу веновой вседой не клекленье,\n",
      "небусовал я льшит неблистинустью дума,\n",
      "она когда подругного брагвассный,\n",
      "плобкавиттожалей.\n",
      "\n",
      "\n",
      "\n",
      "xxxi\n",
      "\n",
      "заслели десе любражала, своживый без мой чил местивы, ложельбованил;\n",
      "и доложенье мано…\n",
      "когорьки родь он свы нетор\n",
      "знуменный в\n"
     ]
    }
   ],
   "source": [
    "print(generate_sample(model, ' мой дядя самых честных правил', max_length=500, temperature=0.8))"
   ]
  },
  {
   "cell_type": "code",
   "execution_count": 181,
   "metadata": {},
   "outputs": [],
   "source": [
    "class PoetryTorchRNN(nn.Module):\n",
    "    def __init__(self, num_tokens, hidden_size=100):\n",
    "        super().__init__()\n",
    "        self.hidden_size = hidden_size\n",
    "        self.embedding = nn.Embedding(num_tokens, hidden_size)  \n",
    "        self.rnn = nn.RNN(hidden_size, hidden_size, batch_first=True) \n",
    "        self.decoder = nn.Linear(hidden_size, num_tokens)  \n",
    "\n",
    "    def forward(self, X, h):\n",
    "        embed = self.embedding(X)  \n",
    "        output, h_new = self.rnn(\n",
    "            embed, h\n",
    "        )  \n",
    "        logits = self.decoder(output)  \n",
    "        return logits, h_new\n",
    "\n",
    "    def init_hidden(self, batch_size, device=\"cpu\"):\n",
    "        return torch.zeros(1, batch_size, self.hidden_size, device=device)"
   ]
  },
  {
   "cell_type": "code",
   "execution_count": 182,
   "metadata": {},
   "outputs": [
    {
     "data": {
      "image/png": "[encoded data removed]",
      "text/plain": [
       "<Figure size 640x480 with 1 Axes>"
      ]
     },
     "metadata": {},
     "output_type": "display_data"
    }
   ],
   "source": [
    "model = PoetryTorchRNN(num_tokens=len(tokens), hidden_size=100).to(device)\n",
    "optim = torch.optim.Adam(model.parameters(), lr=1e-4)\n",
    "loss_func = nn.CrossEntropyLoss(ignore_index=token_to_idx[\"<sos>\"])\n",
    "\n",
    "history = []\n",
    "epochs = 1000\n",
    "\n",
    "model.train()\n",
    "for i in range(epochs):\n",
    "    batch_data = torch.tensor(next(generate_chunk()), dtype=torch.long).to(device)\n",
    "\n",
    "    input_seq = batch_data[:, :-1]  \n",
    "    target_seq = batch_data[:, 1:]  \n",
    "\n",
    "    optim.zero_grad()\n",
    "\n",
    "    hidden = model.init_hidden(batch_size=batch_data.size(0), device=device)\n",
    "    outputs, _ = model(input_seq, hidden)\n",
    "    outputs = outputs.reshape(\n",
    "        -1, outputs.size(-1)\n",
    "    )  \n",
    "    targets = target_seq.reshape(-1)  \n",
    "\n",
    "    loss = loss_func(outputs, targets)\n",
    "\n",
    "    loss.backward()\n",
    "    optim.step()\n",
    "\n",
    "    history.append(loss.item())\n",
    "\n",
    "    if (i + 1) % 250 == 0:\n",
    "        clear_output(True)\n",
    "        plt.plot(history, label=\"loss\")\n",
    "        plt.legend()\n",
    "        plt.show()"
   ]
  },
  {
   "cell_type": "code",
   "execution_count": 183,
   "metadata": {},
   "outputs": [],
   "source": [
    "def generate_sample(\n",
    "    char_rnn, seed_phrase=None, max_length=200, temperature=1.0, device=device\n",
    "):\n",
    "    if seed_phrase is not None:\n",
    "        x_sequence = [token_to_idx[\"<sos>\"]] + [\n",
    "            token_to_idx[token] for token in seed_phrase\n",
    "        ]\n",
    "    else:\n",
    "        x_sequence = [token_to_idx[\"<sos>\"]]\n",
    "\n",
    "    x_sequence = torch.tensor([x_sequence], dtype=torch.long).to(device)\n",
    "\n",
    "    hidden = char_rnn.init_hidden(batch_size=1, device=device)\n",
    "\n",
    "    for i in range(x_sequence.size(1) - 1):\n",
    "        _, hidden = char_rnn(x_sequence[:, i : i + 1], hidden)\n",
    "\n",
    "    for _ in range(max_length - x_sequence.size(1)):\n",
    "        logits, hidden = char_rnn(x_sequence[:, -1:], hidden)\n",
    "        probs = F.softmax(logits / temperature, dim=-1).squeeze().cpu().data.numpy()\n",
    "        next_idx = np.random.choice(len(tokens), p=probs)\n",
    "        next_idx = torch.tensor([[next_idx]], dtype=torch.long).to(device)\n",
    "        x_sequence = torch.cat([x_sequence, next_idx], dim=1)\n",
    "\n",
    "    return \"\".join([tokens[ix] for ix in x_sequence.squeeze().cpu().numpy()])"
   ]
  },
  {
   "cell_type": "code",
   "execution_count": 184,
   "metadata": {},
   "outputs": [
    {
     "name": "stdout",
     "output_type": "stream",
     "text": [
      "<sos> мой дядя самых честных правил, нилинмюя а.ста ста ся нел.\n",
      "xiii\n",
      "\n",
      "xxx«»l\n",
      "эxixe\n",
      "илыпомое с бозтняморишат причизстотавьс бмаме мна всетну зтяла саслреше вевядет.ной и пыл кал естами нилья, ернок, рашь кавов енанив ла нка,\n",
      "у пренно жал рустзввокотьвеская тано стветь тымыпо, но ньvет,т.ушт, жедет,.\n",
      "ссуж\n",
      "итьиннрыэ\n",
      "бниши де же бедсе стелнавпальжильнорь\n",
      "iела,\n",
      "перасредав.\n",
      "ть,\n",
      "\n",
      "скови\n",
      "ей ланены веной го ёовуть, вдивила и но нинуйд\n",
      "не зроя сена.накивх одо в нем\n",
      "пруз милье про,\n",
      "(ги м лем прастону нарогоу  н\n"
     ]
    }
   ],
   "source": [
    "print(generate_sample(model, ' мой дядя самых честных правил', max_length=500, temperature=0.9))"
   ]
  },
  {
   "attachments": {},
   "cell_type": "markdown",
   "metadata": {},
   "source": [
    "### Сдача задания\n",
    "Сгенерируйте десять последовательностей длиной 500, используя строку ' мой дядя самых честных правил'. Температуру для генерации выберите самостоятельно на основании визуального качества генериуремого текста. Не забудьте удалить все технические токены в случае их наличия.\n",
    "\n",
    "Сгенерированную последовательность сохрание в переменную `generated_phrase` и сдайте сгенерированный ниже файл в контест."
   ]
  },
  {
   "cell_type": "code",
   "execution_count": 178,
   "metadata": {},
   "outputs": [],
   "source": [
    "seed_phrase = ' мой дядя самых честных правил'"
   ]
  },
  {
   "cell_type": "code",
   "execution_count": 179,
   "metadata": {},
   "outputs": [],
   "source": [
    "generated_phrases = [\n",
    "    generate_sample(\n",
    "        model,\n",
    "        ' мой дядя самых честных правил',\n",
    "        max_length=500,\n",
    "        temperature=1.\n",
    "    ).replace('<sos>', '')\n",
    "    for _ in range(10)\n",
    "]"
   ]
  },
  {
   "cell_type": "code",
   "execution_count": 180,
   "metadata": {},
   "outputs": [
    {
     "name": "stdout",
     "output_type": "stream",
     "text": [
      "File saved to `submission_dict.json`\n"
     ]
    }
   ],
   "source": [
    "# do not change the code in the block below\n",
    "# __________start of block__________\n",
    "\n",
    "import json\n",
    "if 'generated_phrases' not in locals():\n",
    "    raise ValueError(\"Please, save generated phrases to `generated_phrases` variable\")\n",
    "\n",
    "for phrase in generated_phrases:\n",
    "\n",
    "    if not isinstance(phrase, str):\n",
    "        raise ValueError(\"The generated phrase should be a string\")\n",
    "\n",
    "    if len(phrase) != 500:\n",
    "        raise ValueError(\"The `generated_phrase` length should be equal to 500\")\n",
    "\n",
    "    assert all([x in set(tokens) for x in set(list(phrase))]), 'Unknown tokens detected, check your submission!'\n",
    "    \n",
    "\n",
    "submission_dict = {\n",
    "    'token_to_idx': token_to_idx,\n",
    "    'generated_phrases': generated_phrases\n",
    "}\n",
    "\n",
    "with open('submission_dict.json', 'w') as iofile:\n",
    "    json.dump(submission_dict, iofile)\n",
    "print('File saved to `submission_dict.json`')\n",
    "# __________end of block__________"
   ]
  },
  {
   "attachments": {},
   "cell_type": "markdown",
   "metadata": {},
   "source": [
    "На этом задание завершено. Поздравляем!"
   ]
  }
 ],
 "metadata": {
  "accelerator": "GPU",
  "anaconda-cloud": {},
  "colab": {
   "collapsed_sections": [],
   "name": "NLP HW Lab01_Poetry_generation.v5.ipynb",
   "provenance": []
  },
  "kernelspec": {
   "display_name": ".venv",
   "language": "python",
   "name": "python3"
  },
  "language_info": {
   "codemirror_mode": {
    "name": "ipython",
    "version": 3
   },
   "file_extension": ".py",
   "mimetype": "text/x-python",
   "name": "python",
   "nbconvert_exporter": "python",
   "pygments_lexer": "ipython3",
   "version": "3.12.5"
  }
 },
 "nbformat": 4,
 "nbformat_minor": 1
}
